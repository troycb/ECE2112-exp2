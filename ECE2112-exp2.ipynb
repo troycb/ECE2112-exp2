{
 "cells": [
  {
   "cell_type": "code",
   "execution_count": 5,
   "id": "28bbb83f-a2e8-41af-bd0d-59528e7f2123",
   "metadata": {},
   "outputs": [],
   "source": [
    "import numpy as np"
   ]
  },
  {
   "cell_type": "markdown",
   "id": "623e115b-d0a0-483b-b718-fe3fee4a3589",
   "metadata": {},
   "source": [
    "## Normalization Problem"
   ]
  },
  {
   "cell_type": "code",
   "execution_count": 7,
   "id": "16c6930d-e026-4eaa-8dba-72ad8fd64384",
   "metadata": {},
   "outputs": [
    {
     "data": {
      "text/plain": [
       "array([[0.10238984, 0.84699237, 0.01114922, 0.75171225, 0.6115297 ],\n",
       "       [0.99204441, 0.85906946, 0.47261342, 0.08908389, 0.79889525],\n",
       "       [0.86122601, 0.06340421, 0.03943776, 0.78357792, 0.5208009 ],\n",
       "       [0.42388997, 0.04159288, 0.67359685, 0.6446575 , 0.88323239],\n",
       "       [0.89838626, 0.93503979, 0.96745623, 0.87112883, 0.44074944]])"
      ]
     },
     "execution_count": 7,
     "metadata": {},
     "output_type": "execute_result"
    }
   ],
   "source": [
    "X = np.random.random((5,5))\n",
    "X"
   ]
  },
  {
   "cell_type": "code",
   "execution_count": 19,
   "id": "5a68fd4a-5a12-4ffe-b8d6-652c3f4dc45b",
   "metadata": {},
   "outputs": [
    {
     "data": {
      "text/plain": [
       "array([[-1.44093418,  0.78987753, -1.71428892,  0.50442051,  0.08443688],\n",
       "       [ 1.22445003,  0.82606021, -0.33175301, -1.48079847,  0.64577967],\n",
       "       [ 0.83252118, -1.55773419, -1.62953711,  0.59988933, -0.18738446],\n",
       "       [-0.47772734, -1.62308042,  0.27038862,  0.183687  ,  0.89845177],\n",
       "       [ 0.94385241,  1.05366552,  1.1507844 ,  0.86218978, -0.42721676]])"
      ]
     },
     "execution_count": 19,
     "metadata": {},
     "output_type": "execute_result"
    }
   ],
   "source": [
    "norm = (X-np.mean(X))/np.std(X)\n",
    "np.save(\"X_normalized\", norm)\n",
    "norm"
   ]
  },
  {
   "cell_type": "markdown",
   "id": "75376cda-bbf6-49ea-b6cb-230cc17fb55c",
   "metadata": {},
   "source": [
    "## Divisible By 3 Problem"
   ]
  },
  {
   "cell_type": "code",
   "execution_count": 43,
   "id": "bcf7706b-43de-4612-ad0c-9106a4332266",
   "metadata": {},
   "outputs": [
    {
     "data": {
      "text/plain": [
       "array([[  1,   2,   3,   4,   5,   6,   7,   8,   9,  10],\n",
       "       [ 11,  12,  13,  14,  15,  16,  17,  18,  19,  20],\n",
       "       [ 21,  22,  23,  24,  25,  26,  27,  28,  29,  30],\n",
       "       [ 31,  32,  33,  34,  35,  36,  37,  38,  39,  40],\n",
       "       [ 41,  42,  43,  44,  45,  46,  47,  48,  49,  50],\n",
       "       [ 51,  52,  53,  54,  55,  56,  57,  58,  59,  60],\n",
       "       [ 61,  62,  63,  64,  65,  66,  67,  68,  69,  70],\n",
       "       [ 71,  72,  73,  74,  75,  76,  77,  78,  79,  80],\n",
       "       [ 81,  82,  83,  84,  85,  86,  87,  88,  89,  90],\n",
       "       [ 91,  92,  93,  94,  95,  96,  97,  98,  99, 100]])"
      ]
     },
     "execution_count": 43,
     "metadata": {},
     "output_type": "execute_result"
    }
   ],
   "source": [
    "a = np.arange(1,101,1)\n",
    "a.resize(10,10)\n",
    "a"
   ]
  },
  {
   "cell_type": "code",
   "execution_count": 45,
   "id": "51b1e8e9-2d6f-4d9d-96b8-fb7d440a3a98",
   "metadata": {},
   "outputs": [
    {
     "data": {
      "text/plain": [
       "array([[    1,     4,     9,    16,    25,    36,    49,    64,    81,\n",
       "          100],\n",
       "       [  121,   144,   169,   196,   225,   256,   289,   324,   361,\n",
       "          400],\n",
       "       [  441,   484,   529,   576,   625,   676,   729,   784,   841,\n",
       "          900],\n",
       "       [  961,  1024,  1089,  1156,  1225,  1296,  1369,  1444,  1521,\n",
       "         1600],\n",
       "       [ 1681,  1764,  1849,  1936,  2025,  2116,  2209,  2304,  2401,\n",
       "         2500],\n",
       "       [ 2601,  2704,  2809,  2916,  3025,  3136,  3249,  3364,  3481,\n",
       "         3600],\n",
       "       [ 3721,  3844,  3969,  4096,  4225,  4356,  4489,  4624,  4761,\n",
       "         4900],\n",
       "       [ 5041,  5184,  5329,  5476,  5625,  5776,  5929,  6084,  6241,\n",
       "         6400],\n",
       "       [ 6561,  6724,  6889,  7056,  7225,  7396,  7569,  7744,  7921,\n",
       "         8100],\n",
       "       [ 8281,  8464,  8649,  8836,  9025,  9216,  9409,  9604,  9801,\n",
       "        10000]])"
      ]
     },
     "execution_count": 45,
     "metadata": {},
     "output_type": "execute_result"
    }
   ],
   "source": [
    "asq=np.square(a)\n",
    "asq"
   ]
  },
  {
   "cell_type": "code",
   "execution_count": 49,
   "id": "594cdf63-0da9-4319-a151-b24c1d46692d",
   "metadata": {},
   "outputs": [
    {
     "name": "stdout",
     "output_type": "stream",
     "text": [
      "[   9   36   81  144  225  324  441  576  729  900 1089 1296 1521 1764\n",
      " 2025 2304 2601 2916 3249 3600 3969 4356 4761 5184 5625 6084 6561 7056\n",
      " 7569 8100 8649 9216 9801]\n"
     ]
    }
   ],
   "source": [
    "ifthree = asq%3==0\n",
    "values=asq[ifthree]\n",
    "np.save(\"div_by_3\", values)\n",
    "print(values)"
   ]
  }
 ],
 "metadata": {
  "kernelspec": {
   "display_name": "Python 3 (ipykernel)",
   "language": "python",
   "name": "python3"
  },
  "language_info": {
   "codemirror_mode": {
    "name": "ipython",
    "version": 3
   },
   "file_extension": ".py",
   "mimetype": "text/x-python",
   "name": "python",
   "nbconvert_exporter": "python",
   "pygments_lexer": "ipython3",
   "version": "3.12.4"
  }
 },
 "nbformat": 4,
 "nbformat_minor": 5
}
